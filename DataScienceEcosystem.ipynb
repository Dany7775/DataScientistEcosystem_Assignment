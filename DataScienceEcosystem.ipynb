{
 "cells": [
  {
   "cell_type": "markdown",
   "id": "7596df46-d4e4-4298-8c63-0f5ec0ea95f1",
   "metadata": {},
   "source": [
    "# Data Science Tools and Ecosystem"
   ]
  },
  {
   "cell_type": "markdown",
   "id": "7c6ee7fd-c39f-40ae-88f9-adf795a45cb2",
   "metadata": {},
   "source": [
    "In this notebook, Data Science Tools and Ecosystem are summarized."
   ]
  },
  {
   "cell_type": "markdown",
   "id": "84e3b297-f228-4bb5-993a-5b978b8ce465",
   "metadata": {},
   "source": [
    "Objectives:\n",
    "* List of popular languages for Data Science\n",
    "* List of popular libraries for Data Science\n",
    "* Examples of arithmetic expressions in Python"
   ]
  },
  {
   "cell_type": "markdown",
   "id": "2d7f6b00-4c74-4c18-bcab-e61045ef0747",
   "metadata": {},
   "source": [
    "Some of the commonly used languages used by Data Scientists include:\n",
    "1. Python\n",
    "2. Julia\n",
    "3. Java"
   ]
  },
  {
   "cell_type": "markdown",
   "id": "93a31b9f-0411-4f41-921f-58e43a3abf45",
   "metadata": {},
   "source": [
    "Some of the commonly used libraries used by Data Scientists include:\n",
    "1. Pandas\n",
    "2. Matplotlib\n",
    "3. NumPy"
   ]
  },
  {
   "cell_type": "markdown",
   "id": "dccc2b13-58c7-4801-8610-ce96d46b4259",
   "metadata": {},
   "source": [
    "|Data Science Tools|\n",
    "|---|\n",
    "|Visual Studio Code|\n",
    "|Git|\n",
    "|PyCharm|"
   ]
  },
  {
   "cell_type": "markdown",
   "id": "38bcfc03-04b7-43a5-aea8-130374762066",
   "metadata": {},
   "source": [
    "### Below are a few examples of evaluating arithmetic expressions in Python."
   ]
  },
  {
   "cell_type": "code",
   "execution_count": 56,
   "id": "4749281f-59a1-4a5a-b6ee-fab61cd3c2d2",
   "metadata": {},
   "outputs": [
    {
     "data": {
      "text/plain": [
       "17"
      ]
     },
     "execution_count": 56,
     "metadata": {},
     "output_type": "execute_result"
    }
   ],
   "source": [
    "#This is a simple arithmetic expression to multiply then add integers\n",
    "(3*4)+5"
   ]
  },
  {
   "cell_type": "code",
   "execution_count": 58,
   "id": "3eeb5d62-0811-43d7-babf-c30030482471",
   "metadata": {},
   "outputs": [
    {
     "name": "stdout",
     "output_type": "stream",
     "text": [
      "3.3333333333333335 Hours\n"
     ]
    }
   ],
   "source": [
    "#This will convert 200 minutes to hours by dividing by 60\n",
    "x=200/60\n",
    "print(x,'Hours')"
   ]
  },
  {
   "cell_type": "markdown",
   "id": "01529367-39b0-49bf-9981-59b3043c43bb",
   "metadata": {},
   "source": [
    "## Author\n",
    "Daniel"
   ]
  }
 ],
 "metadata": {
  "kernelspec": {
   "display_name": "Python 3 (ipykernel)",
   "language": "python",
   "name": "python3"
  },
  "language_info": {
   "codemirror_mode": {
    "name": "ipython",
    "version": 3
   },
   "file_extension": ".py",
   "mimetype": "text/x-python",
   "name": "python",
   "nbconvert_exporter": "python",
   "pygments_lexer": "ipython3",
   "version": "3.12.4"
  }
 },
 "nbformat": 4,
 "nbformat_minor": 5
}
